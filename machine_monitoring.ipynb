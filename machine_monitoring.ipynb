{
 "cells": [
  {
   "cell_type": "markdown",
   "id": "f38517a7",
   "metadata": {},
   "source": [
    "### Importing All required libraries"
   ]
  },
  {
   "cell_type": "code",
   "execution_count": 1,
   "id": "deeeaa41",
   "metadata": {},
   "outputs": [],
   "source": [
    "import numpy as np\n",
    "import pandas as pd\n",
    "from sklearn.model_selection import train_test_split\n",
    "from sklearn.preprocessing import StandardScaler\n",
    "from sklearn.metrics import classification_report, confusion_matrix, accuracy_score\n",
    "from sklearn.ensemble import RandomForestClassifier\n",
    "from sklearn.pipeline import Pipeline\n",
    "\n",
    "import pickle"
   ]
  },
  {
   "cell_type": "markdown",
   "id": "ee2e5e63",
   "metadata": {},
   "source": [
    "###  Reading audio dataset CSV"
   ]
  },
  {
   "cell_type": "code",
   "execution_count": 2,
   "id": "fdf78745",
   "metadata": {},
   "outputs": [],
   "source": [
    "df = pd.read_csv('audio_dataset.csv')"
   ]
  },
  {
   "cell_type": "markdown",
   "id": "39b5a75e",
   "metadata": {},
   "source": [
    "### Seperating Feature and Target"
   ]
  },
  {
   "cell_type": "code",
   "execution_count": 3,
   "id": "26f3aacc",
   "metadata": {},
   "outputs": [],
   "source": [
    "X = df.iloc[:,0:-1].values # It is the feature\n",
    "y= df.iloc[:,-1].values    # It is the target"
   ]
  },
  {
   "cell_type": "markdown",
   "id": "58c59aae",
   "metadata": {},
   "source": [
    "### Spliting feature and target into training and test dataset"
   ]
  },
  {
   "cell_type": "code",
   "execution_count": 4,
   "id": "c20107b8",
   "metadata": {},
   "outputs": [],
   "source": [
    "X_train, X_test, y_train, y_test = train_test_split(X,y,test_size=0.2, random_state= 42)"
   ]
  },
  {
   "cell_type": "markdown",
   "id": "648980e9",
   "metadata": {},
   "source": [
    "### Creating model with Random Forest Classifier"
   ]
  },
  {
   "cell_type": "code",
   "execution_count": 5,
   "id": "65621a03",
   "metadata": {},
   "outputs": [
    {
     "data": {
      "text/plain": [
       "0.7341772151898734"
      ]
     },
     "execution_count": 5,
     "metadata": {},
     "output_type": "execute_result"
    }
   ],
   "source": [
    "pipeline_Rand = Pipeline([('standard_scaler',StandardScaler()), ('classifier',RandomForestClassifier(n_estimators =50, class_weight= 'balanced'))])\n",
    "pipeline_Rand.fit(X_train,y_train)\n",
    "\n",
    "pipeline_Rand.score(X_test, y_test)"
   ]
  },
  {
   "cell_type": "markdown",
   "id": "9632c06d",
   "metadata": {},
   "source": [
    "### Classification Report To check accuracy of our model"
   ]
  },
  {
   "cell_type": "code",
   "execution_count": 6,
   "id": "1eba79f1",
   "metadata": {},
   "outputs": [
    {
     "name": "stdout",
     "output_type": "stream",
     "text": [
      "                 precision    recall  f1-score   support\n",
      "\n",
      "   fan_abnormal       0.46      0.42      0.44        62\n",
      "     fan_normal       0.62      0.73      0.67       101\n",
      "  pump_abnormal       1.00      0.33      0.50        18\n",
      "    pump_normal       0.88      1.00      0.93        14\n",
      "slider_abnormal       0.98      1.00      0.99        58\n",
      "  slider_normal       0.81      0.88      0.84        99\n",
      " valve_abnormal       0.69      0.38      0.49        24\n",
      "   valve_normal       0.89      0.84      0.86        19\n",
      "\n",
      "       accuracy                           0.73       395\n",
      "      macro avg       0.79      0.70      0.72       395\n",
      "   weighted avg       0.74      0.73      0.72       395\n",
      "\n"
     ]
    }
   ],
   "source": [
    "print(classification_report(y_test, pipeline_Rand.predict(X_test)))"
   ]
  },
  {
   "cell_type": "code",
   "execution_count": 7,
   "id": "f155f332",
   "metadata": {},
   "outputs": [
    {
     "data": {
      "text/plain": [
       "array([[26, 32,  0,  0,  0,  3,  1,  0],\n",
       "       [23, 74,  0,  0,  1,  3,  0,  0],\n",
       "       [ 3,  5,  6,  2,  0,  2,  0,  0],\n",
       "       [ 0,  0,  0, 14,  0,  0,  0,  0],\n",
       "       [ 0,  0,  0,  0, 58,  0,  0,  0],\n",
       "       [ 3,  8,  0,  0,  0, 87,  1,  0],\n",
       "       [ 1,  0,  0,  0,  0, 12,  9,  2],\n",
       "       [ 0,  0,  0,  0,  0,  1,  2, 16]])"
      ]
     },
     "execution_count": 7,
     "metadata": {},
     "output_type": "execute_result"
    }
   ],
   "source": [
    "confusion_matrix(y_test, pipeline_Rand.predict(X_test))"
   ]
  },
  {
   "cell_type": "markdown",
   "id": "8883e35b",
   "metadata": {},
   "source": [
    "### Saving model to file"
   ]
  },
  {
   "cell_type": "code",
   "execution_count": 8,
   "id": "c58e22f6",
   "metadata": {},
   "outputs": [],
   "source": [
    "pickle.dump(pipeline_Rand, open('model.pkl', 'wb'))"
   ]
  },
  {
   "cell_type": "markdown",
   "id": "4a9b1219",
   "metadata": {},
   "source": [
    "### Validate the model for different Abnormal dataset"
   ]
  },
  {
   "cell_type": "code",
   "execution_count": 9,
   "id": "f29ab6b1",
   "metadata": {},
   "outputs": [],
   "source": [
    "validate_df = pd.read_csv('validation_dataset.csv', header= None)\n",
    "\n",
    "X_valid = validate_df.iloc[:,0:-1].values\n",
    "y_valid= validate_df.iloc[:,-1].values"
   ]
  },
  {
   "cell_type": "code",
   "execution_count": 10,
   "id": "cf9bc52c",
   "metadata": {},
   "outputs": [],
   "source": [
    "y_valid = np.where((y_valid == 'data_fan'), 'fan_abnormal',y_valid)\n",
    "y_valid = np.where((y_valid == 'data_pumps'), 'pump_abnormal',y_valid)\n",
    "y_valid = np.where((y_valid == 'data_slider'), 'slider_abnormal',y_valid)\n",
    "y_valid = np.where((y_valid == 'data_valve'), 'valve_abnormal',y_valid)"
   ]
  },
  {
   "cell_type": "markdown",
   "id": "a0b0b538",
   "metadata": {},
   "source": [
    "### Load the model for validation "
   ]
  },
  {
   "cell_type": "code",
   "execution_count": 11,
   "id": "273c12fb",
   "metadata": {},
   "outputs": [
    {
     "name": "stdout",
     "output_type": "stream",
     "text": [
      "0.7341772151898734\n"
     ]
    }
   ],
   "source": [
    "loaded_model = pickle.load(open('model.pkl', 'rb'))\n",
    "result = loaded_model.score(X_test, y_test)\n",
    "print(result)"
   ]
  },
  {
   "cell_type": "markdown",
   "id": "3af7ed4a",
   "metadata": {},
   "source": [
    "### Classification report with validation dataset"
   ]
  },
  {
   "cell_type": "code",
   "execution_count": 12,
   "id": "2a8b93df",
   "metadata": {
    "scrolled": true
   },
   "outputs": [
    {
     "name": "stdout",
     "output_type": "stream",
     "text": [
      "                 precision    recall  f1-score   support\n",
      "\n",
      "   fan_abnormal       1.00      0.36      0.53       100\n",
      "     fan_normal       0.00      0.00      0.00         0\n",
      "  pump_abnormal       1.00      1.00      1.00        50\n",
      "slider_abnormal       1.00      1.00      1.00       100\n",
      "  slider_normal       0.00      0.00      0.00         0\n",
      " valve_abnormal       0.98      0.88      0.93        50\n",
      "\n",
      "       accuracy                           0.77       300\n",
      "      macro avg       0.66      0.54      0.58       300\n",
      "   weighted avg       1.00      0.77      0.83       300\n",
      "\n"
     ]
    },
    {
     "name": "stderr",
     "output_type": "stream",
     "text": [
      "/home/admin1/anaconda3/envs/monitor_env/lib/python3.8/site-packages/sklearn/metrics/_classification.py:1308: UndefinedMetricWarning: Recall and F-score are ill-defined and being set to 0.0 in labels with no true samples. Use `zero_division` parameter to control this behavior.\n",
      "  _warn_prf(average, modifier, msg_start, len(result))\n",
      "/home/admin1/anaconda3/envs/monitor_env/lib/python3.8/site-packages/sklearn/metrics/_classification.py:1308: UndefinedMetricWarning: Recall and F-score are ill-defined and being set to 0.0 in labels with no true samples. Use `zero_division` parameter to control this behavior.\n",
      "  _warn_prf(average, modifier, msg_start, len(result))\n",
      "/home/admin1/anaconda3/envs/monitor_env/lib/python3.8/site-packages/sklearn/metrics/_classification.py:1308: UndefinedMetricWarning: Recall and F-score are ill-defined and being set to 0.0 in labels with no true samples. Use `zero_division` parameter to control this behavior.\n",
      "  _warn_prf(average, modifier, msg_start, len(result))\n"
     ]
    }
   ],
   "source": [
    "print(classification_report(y_valid, loaded_model.predict(X_valid)))"
   ]
  },
  {
   "cell_type": "code",
   "execution_count": 13,
   "id": "5127d15b",
   "metadata": {},
   "outputs": [
    {
     "name": "stdout",
     "output_type": "stream",
     "text": [
      "[[ 36  38   0   0  25   1]\n",
      " [  0   0   0   0   0   0]\n",
      " [  0   0  50   0   0   0]\n",
      " [  0   0   0 100   0   0]\n",
      " [  0   0   0   0   0   0]\n",
      " [  0   0   0   0   6  44]]\n"
     ]
    }
   ],
   "source": [
    "print(confusion_matrix(y_valid,loaded_model.predict(X_valid)))"
   ]
  },
  {
   "cell_type": "code",
   "execution_count": null,
   "id": "2369d544",
   "metadata": {},
   "outputs": [],
   "source": []
  }
 ],
 "metadata": {
  "kernelspec": {
   "display_name": "Python 3 (ipykernel)",
   "language": "python",
   "name": "python3"
  },
  "language_info": {
   "codemirror_mode": {
    "name": "ipython",
    "version": 3
   },
   "file_extension": ".py",
   "mimetype": "text/x-python",
   "name": "python",
   "nbconvert_exporter": "python",
   "pygments_lexer": "ipython3",
   "version": "3.8.12"
  }
 },
 "nbformat": 4,
 "nbformat_minor": 5
}
